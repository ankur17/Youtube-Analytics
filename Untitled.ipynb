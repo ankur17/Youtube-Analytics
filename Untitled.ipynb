{
 "cells": [
  {
   "cell_type": "code",
   "execution_count": null,
   "metadata": {
    "collapsed": false
   },
   "outputs": [],
   "source": [
    "from __future__ import division\n",
    "from IPython.core.display import display, HTML\n",
    "\n",
    "import matplotlib.pyplot as plt\n",
    "from tqdm import tqdm"
   ]
  },
  {
   "cell_type": "code",
   "execution_count": 9,
   "metadata": {
    "collapsed": false
   },
   "outputs": [
    {
     "name": "stdout",
     "output_type": "stream",
     "text": [
      "======Following is the Analysis ANkurji=====\n",
      "          Duration                    Title Upladed Ago          Views\n",
      "0   5 minutes, 54   Indians React to PEWDIE        3 we    1,137 views\n",
      "1   2 minutes, 36   Indians React to AURA V        1 mo    2,129 views\n",
      "2   6 minutes, 12   Indians React to KRK-Al       2 mon    2,853 views\n",
      "3   3 minutes, 13   Indians React to AGAR.I       3 mon      935 views\n",
      "4   8 minutes, 12   Indians React to CONDOM       3 mon    4,169 views\n",
      "5   4 minutes, 29   Indians React to LOVE R       3 mon    1,911 views\n",
      "6   3 minutes, 47   Indians React to POONAM       3 mon    5,200 views\n",
      "7   4 minutes, 21   Indians React to K-POP        4 mon   32,444 views\n",
      "8   3 minutes, 17   MEN TRY WINGED EYELINER       4 mon    1,196 views\n",
      "9   3 minutes, 56   Indians React to VR - V       4 mon    2,649 views\n",
      "10  7 minutes, 12   Men React to WOMEN FASH       4 mon    1,425 views\n",
      "11  5 minutes, 12   Indians React to BB Ki        4 mon  271,697 views\n",
      "12  4 minutes, 11   Indians React to SUICID       5 mon    2,699 views\n",
      "13  2 minutes, 49   Indians React to M.S.DH       5 mon    4,835 views\n",
      "14  3 minutes, 24   Indians React to \"TOLLY       5 mon    1,720 views\n",
      "15  3 minutes, 52   Indians React to \"HONES       5 mon    3,298 views\n",
      "16              5   DON'T LAUGH CHALLENGE |       5 mon    2,958 views\n",
      "17  4 minutes, 43   Indians React to \"TOP S       6 mon    4,322 views\n",
      "18  3 minutes, 11   Indians React to K-POP        6 mon   15,766 views\n",
      "19  2 minutes, 23   BEHIND THE SCENES | BLO       6 mon    1,077 views\n",
      "20   5 minutes, 6   Indians React to \"THE S       6 mon    2,838 views\n",
      "21  3 minutes, 34   Indians React to \"FAN -       6 mon    7,574 views\n",
      "22  2 minutes, 16   Indians React to MILEY        6 mon    1,856 views\n",
      "23  4 minutes, 28   Indians React to Mastiz       7 mon    7,553 views\n",
      "24  4 minutes, 29   Indians react to ODD EV       7 mon      528 views\n",
      "25   5 minutes, 3   Indians React to ODD EV       7 mon      859 views\n",
      "26  5 minutes, 58   Indians React to Airlif       7 mon    5,687 views\n",
      "27  3 minutes, 33   SCARY PRANK - MAZE GAME       7 mon    1,062 views\n",
      "28  4 minutes, 23   Indians React to BANG B       7 mon    6,058 views\n",
      "29  4 minutes, 24   Indians React to INDIAN       8 mon    8,368 views\n"
     ]
    }
   ],
   "source": [
    "\n",
    "from pprint import pprint\n",
    "from bs4 import BeautifulSoup\n",
    "import urllib2\n",
    "import requests\n",
    "import pandas as pd\n",
    "import numpy as np\n",
    "import re\n",
    "import os\n",
    "\n",
    "longWork = True\n",
    "\n",
    "def getUpload(href):\n",
    "\turl=\"https://www.youtube.com\"+href\n",
    "\tsc = requests.get(url)\n",
    "\too = str()\n",
    "\tsoup = BeautifulSoup(sc.text,'html.parser')\n",
    "\too = soup.find_all(\"strong\", class_=\"watch-time-text\")[0].text[13:]\n",
    "\treturn oo\n",
    "\t# return date\n",
    "\n",
    "def buildDict(listValuePair):\n",
    "\tdi = dict()\n",
    "\tfor col,row in attributes:\n",
    "\t\tdi[col] = row \n",
    "\treturn di\n",
    "\n",
    "\n",
    "url = \"https://www.youtube.com/channel/UCUSkquV90DhVgCk49XXqbBw/videos\" #Enter the link of the channel here\n",
    "url = \"https://www.youtube.com/channel/UCUSkquV90DhVgCk49XXqbBw/videos?view=0&shelf_id=0&sort=dd\" #Enter the link of the channel here\n",
    "sc = requests.get(url)\n",
    "\n",
    "soup = BeautifulSoup(sc.text,'html.parser')\n",
    "# anime = soup.select('li a')\n",
    "print \"======Following is the Analysis ANkurji=====\"\n",
    "\n",
    "video_Alllists = soup.find_all(\"div\", class_=\"yt-lockup-content\")\n",
    "title = list()\n",
    "duration = list()\n",
    "uploadLag = list()\n",
    "date = list()\n",
    "view = list()\n",
    "\n",
    "for line in video_Alllists:\n",
    "\tif longWork:\n",
    "\t\tdate.append(getUpload(line.a.get('href')))\n",
    "\tuploadLag.append(line.find_all('li')[1].text[:-7])\n",
    "\tview.append(line.li.text)\n",
    "\ttitle.append(line.a.get('title')[:23])\n",
    "\tduration.append(re.findall('\\d.*',line.span.text)[0][:-8])\n",
    "\n",
    "titlePd = pd.Series(title)\n",
    "durPd = pd.Series(duration)\n",
    "viewPd = pd.Series(view)\n",
    "uploadLagPd = pd.Series(uploadLag)\n",
    "\n",
    "d = dict()\n",
    "attributes = [('Title',titlePd),('Duration',durPd),('Views',viewPd),('Upladed Ago',uploadLagPd)]\n",
    "\n",
    "if longWork:\n",
    "\td['Date'] = pd.Series(date)\n",
    "d = buildDict(attributes)\n",
    "df = pd.DataFrame(d)\n",
    "\n",
    "pprint(df.head(40))"
   ]
  },
  {
   "cell_type": "code",
   "execution_count": null,
   "metadata": {
    "collapsed": false
   },
   "outputs": [],
   "source": [
    "# pprint(df.to_html())\n",
    "# print df.to_html()\n",
    "display(HTML(df.to_html()))\n"
   ]
  },
  {
   "cell_type": "code",
   "execution_count": null,
   "metadata": {
    "collapsed": false
   },
   "outputs": [],
   "source": []
  }
 ],
 "metadata": {
  "kernelspec": {
   "display_name": "Python [env]",
   "language": "python",
   "name": "Python [env]"
  },
  "language_info": {
   "codemirror_mode": {
    "name": "ipython",
    "version": 2
   },
   "file_extension": ".py",
   "mimetype": "text/x-python",
   "name": "python",
   "nbconvert_exporter": "python",
   "pygments_lexer": "ipython2",
   "version": "2.7.12"
  }
 },
 "nbformat": 4,
 "nbformat_minor": 1
}
